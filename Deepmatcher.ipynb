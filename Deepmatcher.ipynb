{
 "cells": [
  {
   "cell_type": "code",
   "execution_count": 63,
   "metadata": {
    "scrolled": false
   },
   "outputs": [
    {
     "name": "stderr",
     "output_type": "stream",
     "text": [
      "WARNING:deepmatcher.data.dataset:Rebuilding data cache because: ['One or more data files have been modified.', 'Fields have changed.']\n",
      "\n",
      "Reading and processing data from \"data/Dogfood_long_traindata.csv\"\n",
      "0% [############################# ] 100% | ETA: 00:00:00\n",
      "Reading and processing data from \"data/Dogfood_long_validation_data.csv\"\n",
      "0% [############################# ] 100% | ETA: 00:00:00\n",
      "Reading and processing data from \"data/Dogfood_long_testdata.csv\"\n",
      "0% [############################# ] 100% | ETA: 00:00:00\n",
      "Building vocabulary\n",
      "0% [#] 100% | ETA: 00:00:00\n",
      "Total time elapsed: 00:00:00\n",
      "\n",
      "Computing principal components\n",
      "0% [#] 100% | ETA: 00:00:00\n",
      "Total time elapsed: 00:00:02\n"
     ]
    }
   ],
   "source": [
    "import deepmatcher as dm\n",
    "train, validation, test = dm.data.process(path='data', train='Dogfood_long_traindata.csv', \n",
    "                        validation='Dogfood_long_validation_data.csv', test='Dogfood_long_testdata.csv')"
   ]
  },
  {
   "cell_type": "code",
   "execution_count": 81,
   "metadata": {},
   "outputs": [],
   "source": [
    "model = dm.MatchingModel(classifier='3-layer-residual-relu')\n",
    "model.initialize(train)"
   ]
  },
  {
   "cell_type": "code",
   "execution_count": 82,
   "metadata": {
    "scrolled": false
   },
   "outputs": [
    {
     "name": "stdout",
     "output_type": "stream",
     "text": [
      "* Number of trainable parameters: 9390606\n",
      "===>  TRAIN Epoch 1\n"
     ]
    },
    {
     "name": "stderr",
     "output_type": "stream",
     "text": [
      "0% [███████] 100% | ETA: 00:00:00\n",
      "Total time elapsed: 00:07:44\n"
     ]
    },
    {
     "name": "stdout",
     "output_type": "stream",
     "text": [
      "Finished Epoch 1 || Run Time:  523.6 | Load Time:    0.8 || F1:  63.28 | Prec:  62.58 | Rec:  63.99 || Ex/s:   1.19\n",
      "\n",
      "===>  EVAL Epoch 1\n",
      "Finished Epoch 1 || Run Time:   12.4 | Load Time:    0.1 || F1:  16.67 | Prec:  50.00 | Rec:  10.00 || Ex/s:   4.03\n",
      "\n",
      "* Best F1: 16.666666666666668\n",
      "Saving best model...\n",
      "Done.\n",
      "---------------------\n",
      "\n",
      "===>  TRAIN Epoch 2\n"
     ]
    },
    {
     "name": "stderr",
     "output_type": "stream",
     "text": [
      "0% [███████] 100% | ETA: 00:00:00\n",
      "Total time elapsed: 00:07:20\n"
     ]
    },
    {
     "name": "stdout",
     "output_type": "stream",
     "text": [
      "Finished Epoch 2 || Run Time:  503.4 | Load Time:    0.8 || F1:  72.33 | Prec:  76.62 | Rec:  68.49 || Ex/s:   1.24\n",
      "\n",
      "===>  EVAL Epoch 2\n",
      "Finished Epoch 2 || Run Time:   12.1 | Load Time:    0.1 || F1:  16.67 | Prec:  50.00 | Rec:  10.00 || Ex/s:   4.09\n",
      "\n",
      "---------------------\n",
      "\n",
      "===>  TRAIN Epoch 3\n"
     ]
    },
    {
     "name": "stderr",
     "output_type": "stream",
     "text": [
      "0% [███████] 100% | ETA: 00:00:00\n",
      "Total time elapsed: 00:07:23\n"
     ]
    },
    {
     "name": "stdout",
     "output_type": "stream",
     "text": [
      "Finished Epoch 3 || Run Time:  503.4 | Load Time:    0.7 || F1:  81.79 | Prec:  81.27 | Rec:  82.32 || Ex/s:   1.24\n",
      "\n",
      "===>  EVAL Epoch 3\n",
      "Finished Epoch 3 || Run Time:   12.2 | Load Time:    0.1 || F1:  45.45 | Prec:  41.67 | Rec:  50.00 || Ex/s:   4.07\n",
      "\n",
      "* Best F1: 45.45454545454545\n",
      "Saving best model...\n",
      "Done.\n",
      "---------------------\n",
      "\n",
      "===>  TRAIN Epoch 4\n"
     ]
    },
    {
     "name": "stderr",
     "output_type": "stream",
     "text": [
      "0% [███████] 100% | ETA: 00:00:00\n",
      "Total time elapsed: 00:07:25\n"
     ]
    },
    {
     "name": "stdout",
     "output_type": "stream",
     "text": [
      "Finished Epoch 4 || Run Time:  506.1 | Load Time:    0.7 || F1:  85.49 | Prec:  83.90 | Rec:  87.14 || Ex/s:   1.23\n",
      "\n",
      "===>  EVAL Epoch 4\n",
      "Finished Epoch 4 || Run Time:   12.3 | Load Time:    0.1 || F1:  18.18 | Prec: 100.00 | Rec:  10.00 || Ex/s:   4.06\n",
      "\n",
      "---------------------\n",
      "\n",
      "===>  TRAIN Epoch 5\n"
     ]
    },
    {
     "name": "stderr",
     "output_type": "stream",
     "text": [
      "0% [███████] 100% | ETA: 00:00:00\n",
      "Total time elapsed: 00:07:32\n"
     ]
    },
    {
     "name": "stdout",
     "output_type": "stream",
     "text": [
      "Finished Epoch 5 || Run Time:  513.3 | Load Time:    0.8 || F1:  88.96 | Prec:  86.14 | Rec:  91.96 || Ex/s:   1.21\n",
      "\n",
      "===>  EVAL Epoch 5\n",
      "Finished Epoch 5 || Run Time:   12.9 | Load Time:    0.1 || F1:  15.38 | Prec:  33.33 | Rec:  10.00 || Ex/s:   3.87\n",
      "\n",
      "---------------------\n",
      "\n",
      "===>  TRAIN Epoch 6\n"
     ]
    },
    {
     "name": "stderr",
     "output_type": "stream",
     "text": [
      "0% [███████] 100% | ETA: 00:00:00\n",
      "Total time elapsed: 00:07:24\n"
     ]
    },
    {
     "name": "stdout",
     "output_type": "stream",
     "text": [
      "Finished Epoch 6 || Run Time:  503.4 | Load Time:    0.7 || F1:  91.05 | Prec:  88.96 | Rec:  93.25 || Ex/s:   1.24\n",
      "\n",
      "===>  EVAL Epoch 6\n",
      "Finished Epoch 6 || Run Time:   12.2 | Load Time:    0.1 || F1:  16.67 | Prec:  50.00 | Rec:  10.00 || Ex/s:   4.07\n",
      "\n",
      "---------------------\n",
      "\n",
      "===>  TRAIN Epoch 7\n"
     ]
    },
    {
     "name": "stderr",
     "output_type": "stream",
     "text": [
      "0% [███████] 100% | ETA: 00:00:00\n",
      "Total time elapsed: 00:07:25\n"
     ]
    },
    {
     "name": "stdout",
     "output_type": "stream",
     "text": [
      "Finished Epoch 7 || Run Time:  505.6 | Load Time:    0.7 || F1:  92.11 | Prec:  90.40 | Rec:  93.89 || Ex/s:   1.23\n",
      "\n",
      "===>  EVAL Epoch 7\n",
      "Finished Epoch 7 || Run Time:   12.2 | Load Time:    0.1 || F1:  18.18 | Prec: 100.00 | Rec:  10.00 || Ex/s:   4.08\n",
      "\n",
      "---------------------\n",
      "\n",
      "===>  TRAIN Epoch 8\n"
     ]
    },
    {
     "name": "stderr",
     "output_type": "stream",
     "text": [
      "0% [███████] 100% | ETA: 00:00:00\n",
      "Total time elapsed: 00:07:25\n"
     ]
    },
    {
     "name": "stdout",
     "output_type": "stream",
     "text": [
      "Finished Epoch 8 || Run Time:  504.8 | Load Time:    0.8 || F1:  93.50 | Prec:  92.19 | Rec:  94.86 || Ex/s:   1.23\n",
      "\n",
      "===>  EVAL Epoch 8\n",
      "Finished Epoch 8 || Run Time:   12.2 | Load Time:    0.1 || F1:  16.67 | Prec:  50.00 | Rec:  10.00 || Ex/s:   4.09\n",
      "\n",
      "---------------------\n",
      "\n",
      "===>  TRAIN Epoch 9\n"
     ]
    },
    {
     "name": "stderr",
     "output_type": "stream",
     "text": [
      "0% [███████] 100% | ETA: 00:00:00\n",
      "Total time elapsed: 00:07:30\n"
     ]
    },
    {
     "name": "stdout",
     "output_type": "stream",
     "text": [
      "Finished Epoch 9 || Run Time:  510.1 | Load Time:    0.8 || F1:  95.07 | Prec:  94.03 | Rec:  96.14 || Ex/s:   1.22\n",
      "\n",
      "===>  EVAL Epoch 9\n",
      "Finished Epoch 9 || Run Time:   12.2 | Load Time:    0.1 || F1:  16.67 | Prec:  50.00 | Rec:  10.00 || Ex/s:   4.08\n",
      "\n",
      "---------------------\n",
      "\n",
      "===>  TRAIN Epoch 10\n"
     ]
    },
    {
     "name": "stderr",
     "output_type": "stream",
     "text": [
      "0% [███████] 100% | ETA: 00:00:00\n",
      "Total time elapsed: 00:07:26\n"
     ]
    },
    {
     "name": "stdout",
     "output_type": "stream",
     "text": [
      "Finished Epoch 10 || Run Time:  505.8 | Load Time:    0.8 || F1:  95.53 | Prec:  94.92 | Rec:  96.14 || Ex/s:   1.23\n",
      "\n",
      "===>  EVAL Epoch 10\n",
      "Finished Epoch 10 || Run Time:   12.2 | Load Time:    0.1 || F1:  16.67 | Prec:  50.00 | Rec:  10.00 || Ex/s:   4.08\n",
      "\n",
      "---------------------\n",
      "\n",
      "===>  TRAIN Epoch 11\n"
     ]
    },
    {
     "name": "stderr",
     "output_type": "stream",
     "text": [
      "0% [███████] 100% | ETA: 00:00:00\n",
      "Total time elapsed: 00:07:27\n"
     ]
    },
    {
     "name": "stdout",
     "output_type": "stream",
     "text": [
      "Finished Epoch 11 || Run Time:  507.7 | Load Time:    0.7 || F1:  96.17 | Prec:  95.56 | Rec:  96.78 || Ex/s:   1.23\n",
      "\n",
      "===>  EVAL Epoch 11\n",
      "Finished Epoch 11 || Run Time:   12.2 | Load Time:    0.1 || F1:  16.67 | Prec:  50.00 | Rec:  10.00 || Ex/s:   4.06\n",
      "\n",
      "---------------------\n",
      "\n",
      "===>  TRAIN Epoch 12\n"
     ]
    },
    {
     "name": "stderr",
     "output_type": "stream",
     "text": [
      "0% [███████] 100% | ETA: 00:00:00\n",
      "Total time elapsed: 00:07:26\n"
     ]
    },
    {
     "name": "stdout",
     "output_type": "stream",
     "text": [
      "Finished Epoch 12 || Run Time:  507.1 | Load Time:    0.7 || F1:  96.47 | Prec:  96.17 | Rec:  96.78 || Ex/s:   1.23\n",
      "\n",
      "===>  EVAL Epoch 12\n",
      "Finished Epoch 12 || Run Time:   12.8 | Load Time:    0.1 || F1:  16.67 | Prec:  50.00 | Rec:  10.00 || Ex/s:   3.89\n",
      "\n",
      "---------------------\n",
      "\n",
      "===>  TRAIN Epoch 13\n"
     ]
    },
    {
     "name": "stderr",
     "output_type": "stream",
     "text": [
      "0% [███████] 100% | ETA: 00:00:00\n",
      "Total time elapsed: 00:07:36\n"
     ]
    },
    {
     "name": "stdout",
     "output_type": "stream",
     "text": [
      "Finished Epoch 13 || Run Time:  516.4 | Load Time:    0.7 || F1:  96.79 | Prec:  96.49 | Rec:  97.11 || Ex/s:   1.20\n",
      "\n",
      "===>  EVAL Epoch 13\n",
      "Finished Epoch 13 || Run Time:   12.4 | Load Time:    0.1 || F1:  18.18 | Prec: 100.00 | Rec:  10.00 || Ex/s:   4.01\n",
      "\n",
      "---------------------\n",
      "\n",
      "===>  TRAIN Epoch 14\n"
     ]
    },
    {
     "name": "stderr",
     "output_type": "stream",
     "text": [
      "0% [███████] 100% | ETA: 00:00:00\n",
      "Total time elapsed: 00:07:38\n"
     ]
    },
    {
     "name": "stdout",
     "output_type": "stream",
     "text": [
      "Finished Epoch 14 || Run Time:  517.9 | Load Time:    0.8 || F1:  96.79 | Prec:  96.49 | Rec:  97.11 || Ex/s:   1.20\n",
      "\n",
      "===>  EVAL Epoch 14\n",
      "Finished Epoch 14 || Run Time:   12.3 | Load Time:    0.1 || F1:  18.18 | Prec: 100.00 | Rec:  10.00 || Ex/s:   4.05\n",
      "\n",
      "---------------------\n",
      "\n",
      "===>  TRAIN Epoch 15\n"
     ]
    },
    {
     "name": "stderr",
     "output_type": "stream",
     "text": [
      "0% [███████] 100% | ETA: 00:00:00\n",
      "Total time elapsed: 00:07:42\n"
     ]
    },
    {
     "name": "stdout",
     "output_type": "stream",
     "text": [
      "Finished Epoch 15 || Run Time:  522.7 | Load Time:    0.8 || F1:  96.96 | Prec:  96.50 | Rec:  97.43 || Ex/s:   1.19\n",
      "\n",
      "===>  EVAL Epoch 15\n",
      "Finished Epoch 15 || Run Time:   12.3 | Load Time:    0.1 || F1:  18.18 | Prec: 100.00 | Rec:  10.00 || Ex/s:   4.05\n",
      "\n",
      "---------------------\n",
      "\n",
      "===>  TRAIN Epoch 16\n"
     ]
    },
    {
     "name": "stderr",
     "output_type": "stream",
     "text": [
      "0% [███████] 100% | ETA: 00:00:00\n",
      "Total time elapsed: 00:07:32\n"
     ]
    },
    {
     "name": "stdout",
     "output_type": "stream",
     "text": [
      "Finished Epoch 16 || Run Time:  512.7 | Load Time:    0.8 || F1:  97.12 | Prec:  96.81 | Rec:  97.43 || Ex/s:   1.21\n",
      "\n",
      "===>  EVAL Epoch 16\n",
      "Finished Epoch 16 || Run Time:   12.3 | Load Time:    0.1 || F1:  18.18 | Prec: 100.00 | Rec:  10.00 || Ex/s:   4.04\n",
      "\n",
      "---------------------\n",
      "\n",
      "===>  TRAIN Epoch 17\n"
     ]
    },
    {
     "name": "stderr",
     "output_type": "stream",
     "text": [
      "0% [███████] 100% | ETA: 00:00:00\n",
      "Total time elapsed: 00:07:30\n"
     ]
    },
    {
     "name": "stdout",
     "output_type": "stream",
     "text": [
      "Finished Epoch 17 || Run Time:  510.5 | Load Time:    0.8 || F1:  97.27 | Prec:  97.12 | Rec:  97.43 || Ex/s:   1.22\n",
      "\n",
      "===>  EVAL Epoch 17\n",
      "Finished Epoch 17 || Run Time:   12.3 | Load Time:    0.1 || F1:  18.18 | Prec: 100.00 | Rec:  10.00 || Ex/s:   4.03\n",
      "\n",
      "---------------------\n",
      "\n",
      "===>  TRAIN Epoch 18\n"
     ]
    },
    {
     "name": "stderr",
     "output_type": "stream",
     "text": [
      "0% [███████] 100% | ETA: 00:00:00\n",
      "Total time elapsed: 00:07:33\n"
     ]
    },
    {
     "name": "stdout",
     "output_type": "stream",
     "text": [
      "Finished Epoch 18 || Run Time:  514.2 | Load Time:    0.8 || F1:  97.44 | Prec:  97.12 | Rec:  97.75 || Ex/s:   1.21\n",
      "\n",
      "===>  EVAL Epoch 18\n",
      "Finished Epoch 18 || Run Time:   12.2 | Load Time:    0.1 || F1:  18.18 | Prec: 100.00 | Rec:  10.00 || Ex/s:   4.08\n",
      "\n",
      "---------------------\n",
      "\n",
      "===>  TRAIN Epoch 19\n"
     ]
    },
    {
     "name": "stderr",
     "output_type": "stream",
     "text": [
      "0% [███████] 100% | ETA: 00:00:00\n",
      "Total time elapsed: 00:07:44\n"
     ]
    },
    {
     "name": "stdout",
     "output_type": "stream",
     "text": [
      "Finished Epoch 19 || Run Time:  525.0 | Load Time:    0.8 || F1:  97.44 | Prec:  97.12 | Rec:  97.75 || Ex/s:   1.18\n",
      "\n",
      "===>  EVAL Epoch 19\n",
      "Finished Epoch 19 || Run Time:   12.2 | Load Time:    0.1 || F1:  18.18 | Prec: 100.00 | Rec:  10.00 || Ex/s:   4.07\n",
      "\n",
      "---------------------\n",
      "\n",
      "===>  TRAIN Epoch 20\n"
     ]
    },
    {
     "name": "stderr",
     "output_type": "stream",
     "text": [
      "0% [███████] 100% | ETA: 00:00:00\n",
      "Total time elapsed: 00:07:33\n"
     ]
    },
    {
     "name": "stdout",
     "output_type": "stream",
     "text": [
      "Finished Epoch 20 || Run Time:  516.5 | Load Time:    0.7 || F1:  97.59 | Prec:  97.44 | Rec:  97.75 || Ex/s:   1.20\n",
      "\n",
      "===>  EVAL Epoch 20\n",
      "Finished Epoch 20 || Run Time:   12.2 | Load Time:    0.1 || F1:  18.18 | Prec: 100.00 | Rec:  10.00 || Ex/s:   4.07\n",
      "\n",
      "---------------------\n",
      "\n",
      "===>  TRAIN Epoch 21\n"
     ]
    },
    {
     "name": "stderr",
     "output_type": "stream",
     "text": [
      "0% [███████] 100% | ETA: 00:00:00\n",
      "Total time elapsed: 00:07:36\n"
     ]
    },
    {
     "name": "stdout",
     "output_type": "stream",
     "text": [
      "Finished Epoch 21 || Run Time:  518.2 | Load Time:    0.7 || F1:  97.59 | Prec:  97.44 | Rec:  97.75 || Ex/s:   1.20\n",
      "\n",
      "===>  EVAL Epoch 21\n",
      "Finished Epoch 21 || Run Time:   12.2 | Load Time:    0.1 || F1:  18.18 | Prec: 100.00 | Rec:  10.00 || Ex/s:   4.08\n",
      "\n",
      "---------------------\n",
      "\n",
      "===>  TRAIN Epoch 22\n"
     ]
    },
    {
     "name": "stderr",
     "output_type": "stream",
     "text": [
      "0% [███████] 100% | ETA: 00:00:00\n",
      "Total time elapsed: 00:07:33\n"
     ]
    },
    {
     "name": "stdout",
     "output_type": "stream",
     "text": [
      "Finished Epoch 22 || Run Time:  519.8 | Load Time:    0.7 || F1:  97.59 | Prec:  97.44 | Rec:  97.75 || Ex/s:   1.20\n",
      "\n",
      "===>  EVAL Epoch 22\n",
      "Finished Epoch 22 || Run Time:   13.6 | Load Time:    0.1 || F1:  18.18 | Prec: 100.00 | Rec:  10.00 || Ex/s:   3.66\n",
      "\n",
      "---------------------\n",
      "\n",
      "===>  TRAIN Epoch 23\n"
     ]
    },
    {
     "name": "stderr",
     "output_type": "stream",
     "text": [
      "0% [███████] 100% | ETA: 00:00:00\n",
      "Total time elapsed: 00:07:40\n"
     ]
    },
    {
     "name": "stdout",
     "output_type": "stream",
     "text": [
      "Finished Epoch 23 || Run Time:  520.7 | Load Time:    0.7 || F1:  97.59 | Prec:  97.44 | Rec:  97.75 || Ex/s:   1.19\n",
      "\n",
      "===>  EVAL Epoch 23\n",
      "Finished Epoch 23 || Run Time:   12.2 | Load Time:    0.1 || F1:  18.18 | Prec: 100.00 | Rec:  10.00 || Ex/s:   4.07\n",
      "\n",
      "---------------------\n",
      "\n",
      "===>  TRAIN Epoch 24\n"
     ]
    },
    {
     "name": "stderr",
     "output_type": "stream",
     "text": [
      "0% [███████] 100% | ETA: 00:00:00\n",
      "Total time elapsed: 00:07:33\n"
     ]
    },
    {
     "name": "stdout",
     "output_type": "stream",
     "text": [
      "Finished Epoch 24 || Run Time:  523.6 | Load Time:    0.8 || F1:  97.59 | Prec:  97.44 | Rec:  97.75 || Ex/s:   1.19\n",
      "\n",
      "===>  EVAL Epoch 24\n",
      "Finished Epoch 24 || Run Time:   12.2 | Load Time:    0.1 || F1:  18.18 | Prec: 100.00 | Rec:  10.00 || Ex/s:   4.08\n",
      "\n",
      "---------------------\n",
      "\n",
      "===>  TRAIN Epoch 25\n"
     ]
    },
    {
     "name": "stderr",
     "output_type": "stream",
     "text": [
      "0% [███████] 100% | ETA: 00:00:00\n",
      "Total time elapsed: 00:07:43\n"
     ]
    },
    {
     "name": "stdout",
     "output_type": "stream",
     "text": [
      "Finished Epoch 25 || Run Time:  523.8 | Load Time:    0.8 || F1:  97.59 | Prec:  97.44 | Rec:  97.75 || Ex/s:   1.19\n",
      "\n",
      "===>  EVAL Epoch 25\n",
      "Finished Epoch 25 || Run Time:   12.2 | Load Time:    0.1 || F1:  16.67 | Prec:  50.00 | Rec:  10.00 || Ex/s:   4.09\n",
      "\n",
      "---------------------\n",
      "\n",
      "Loading best model...\n",
      "Training done.\n"
     ]
    },
    {
     "data": {
      "text/plain": [
       "45.45454545454545"
      ]
     },
     "execution_count": 82,
     "metadata": {},
     "output_type": "execute_result"
    }
   ],
   "source": [
    "model.run_train(train, validation, epochs=25, batch_size=16, best_save_path='best_model_3-layer-residual-relu.pth')"
   ]
  },
  {
   "cell_type": "code",
   "execution_count": 84,
   "metadata": {},
   "outputs": [
    {
     "name": "stdout",
     "output_type": "stream",
     "text": [
      "===>  EVAL Epoch 3\n",
      "Finished Epoch 3 || Run Time:    9.1 | Load Time:    0.1 || F1:  33.33 | Prec:  33.33 | Rec:  33.33 || Ex/s:   5.48\n",
      "\n"
     ]
    },
    {
     "data": {
      "text/plain": [
       "33.333333333333336"
      ]
     },
     "execution_count": 84,
     "metadata": {},
     "output_type": "execute_result"
    }
   ],
   "source": [
    "model.run_eval(test)\n",
    "\n",
    "# unlabeled = dm.data.process_unlabeled(path='data/Dogfood_final_dec_rev.csv', trained_model=model)\n",
    "# model.run_prediction(unlabeled)"
   ]
  },
  {
   "cell_type": "code",
   "execution_count": null,
   "metadata": {},
   "outputs": [],
   "source": []
  },
  {
   "cell_type": "code",
   "execution_count": null,
   "metadata": {},
   "outputs": [],
   "source": []
  },
  {
   "cell_type": "code",
   "execution_count": null,
   "metadata": {},
   "outputs": [],
   "source": []
  },
  {
   "cell_type": "code",
   "execution_count": null,
   "metadata": {},
   "outputs": [],
   "source": []
  },
  {
   "cell_type": "code",
   "execution_count": null,
   "metadata": {},
   "outputs": [],
   "source": []
  },
  {
   "cell_type": "code",
   "execution_count": null,
   "metadata": {},
   "outputs": [],
   "source": []
  },
  {
   "cell_type": "code",
   "execution_count": null,
   "metadata": {},
   "outputs": [],
   "source": []
  },
  {
   "cell_type": "code",
   "execution_count": null,
   "metadata": {},
   "outputs": [],
   "source": []
  },
  {
   "cell_type": "code",
   "execution_count": null,
   "metadata": {},
   "outputs": [],
   "source": []
  },
  {
   "cell_type": "code",
   "execution_count": null,
   "metadata": {},
   "outputs": [],
   "source": []
  },
  {
   "cell_type": "code",
   "execution_count": null,
   "metadata": {},
   "outputs": [],
   "source": []
  }
 ],
 "metadata": {
  "kernelspec": {
   "display_name": "Python 3",
   "language": "python",
   "name": "python3"
  },
  "language_info": {
   "codemirror_mode": {
    "name": "ipython",
    "version": 3
   },
   "file_extension": ".py",
   "mimetype": "text/x-python",
   "name": "python",
   "nbconvert_exporter": "python",
   "pygments_lexer": "ipython3",
   "version": "3.6.6"
  }
 },
 "nbformat": 4,
 "nbformat_minor": 2
}
